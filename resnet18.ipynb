{
  "nbformat": 4,
  "nbformat_minor": 0,
  "metadata": {
    "colab": {
      "provenance": []
    },
    "kernelspec": {
      "name": "python3",
      "display_name": "Python 3"
    },
    "language_info": {
      "name": "python"
    }
  },
  "cells": [
    {
      "cell_type": "code",
      "execution_count": null,
      "metadata": {
        "colab": {
          "base_uri": "https://localhost:8080/"
        },
        "id": "TpZ3zSRXdSwI",
        "outputId": "8c34746c-5714-4040-a229-452cf591de91"
      },
      "outputs": [
        {
          "output_type": "stream",
          "name": "stdout",
          "text": [
            "Requirement already satisfied: torch in /usr/local/lib/python3.10/dist-packages (2.1.0+cu118)\n",
            "Requirement already satisfied: torchvision in /usr/local/lib/python3.10/dist-packages (0.16.0+cu118)\n",
            "Requirement already satisfied: filelock in /usr/local/lib/python3.10/dist-packages (from torch) (3.13.1)\n",
            "Requirement already satisfied: typing-extensions in /usr/local/lib/python3.10/dist-packages (from torch) (4.5.0)\n",
            "Requirement already satisfied: sympy in /usr/local/lib/python3.10/dist-packages (from torch) (1.12)\n",
            "Requirement already satisfied: networkx in /usr/local/lib/python3.10/dist-packages (from torch) (3.2.1)\n",
            "Requirement already satisfied: jinja2 in /usr/local/lib/python3.10/dist-packages (from torch) (3.1.2)\n",
            "Requirement already satisfied: fsspec in /usr/local/lib/python3.10/dist-packages (from torch) (2023.6.0)\n",
            "Requirement already satisfied: triton==2.1.0 in /usr/local/lib/python3.10/dist-packages (from torch) (2.1.0)\n",
            "Requirement already satisfied: numpy in /usr/local/lib/python3.10/dist-packages (from torchvision) (1.23.5)\n",
            "Requirement already satisfied: requests in /usr/local/lib/python3.10/dist-packages (from torchvision) (2.31.0)\n",
            "Requirement already satisfied: pillow!=8.3.*,>=5.3.0 in /usr/local/lib/python3.10/dist-packages (from torchvision) (9.4.0)\n",
            "Requirement already satisfied: MarkupSafe>=2.0 in /usr/local/lib/python3.10/dist-packages (from jinja2->torch) (2.1.3)\n",
            "Requirement already satisfied: charset-normalizer<4,>=2 in /usr/local/lib/python3.10/dist-packages (from requests->torchvision) (3.3.2)\n",
            "Requirement already satisfied: idna<4,>=2.5 in /usr/local/lib/python3.10/dist-packages (from requests->torchvision) (3.4)\n",
            "Requirement already satisfied: urllib3<3,>=1.21.1 in /usr/local/lib/python3.10/dist-packages (from requests->torchvision) (2.0.7)\n",
            "Requirement already satisfied: certifi>=2017.4.17 in /usr/local/lib/python3.10/dist-packages (from requests->torchvision) (2023.7.22)\n",
            "Requirement already satisfied: mpmath>=0.19 in /usr/local/lib/python3.10/dist-packages (from sympy->torch) (1.3.0)\n"
          ]
        }
      ],
      "source": [
        "pip install torch torchvision"
      ]
    },
    {
      "cell_type": "code",
      "source": [
        "import torch\n",
        "import torchvision\n",
        "import torchvision.transforms as transforms\n",
        "import torch.nn as nn\n",
        "import torch.optim as optim\n",
        "import matplotlib.pyplot as plt\n",
        "\n",
        "# Define transforms for the dataset\n",
        "transform = transforms.Compose([\n",
        "    transforms.ToTensor(),\n",
        "])\n",
        "\n",
        "# Load FashionMNIST dataset\n",
        "full_trainset = torchvision.datasets.FashionMNIST(root='./data', train=True,\n",
        "                                                  download=True, transform=transform)\n",
        "\n",
        "# Splitting the full training set into a balanced train and validation set\n",
        "train_size = int(0.8 * len(full_trainset))\n",
        "val_size = len(full_trainset) - train_size\n",
        "trainset, valset = torch.utils.data.random_split(full_trainset, [train_size, val_size])\n",
        "\n",
        "testset = torchvision.datasets.FashionMNIST(root='./data', train=False,\n",
        "                                           download=True, transform=transform)\n",
        "\n",
        "# Ensure balanced training, validation, and test sets\n",
        "trainloader = torch.utils.data.DataLoader(trainset, batch_size=64, shuffle=True)\n",
        "valloader = torch.utils.data.DataLoader(valset, batch_size=64, shuffle=False)\n",
        "testloader = torch.utils.data.DataLoader(testset, batch_size=64, shuffle=False)\n",
        "\n",
        "# Define the ResNet18 architecture with modifications\n",
        "class ModifiedResNet18(nn.Module):\n",
        "    def __init__(self):\n",
        "        super(ModifiedResNet18, self).__init__()\n",
        "        self.resnet18 = torchvision.models.resnet18(pretrained=False)\n",
        "        # Adjust the first convolutional layer to handle single-channel input\n",
        "        self.resnet18.conv1 = nn.Conv2d(1, 64, kernel_size=7, stride=2, padding=3, bias=False)\n",
        "        self.resnet18.avgpool = nn.AdaptiveAvgPool2d(1)  # Global Average Pooling\n",
        "        self.resnet18.fc = nn.Linear(512, 10)   # FashionMNIST has 10 classes\n",
        "\n",
        "    def forward(self, x):\n",
        "        x = self.resnet18.conv1(x)\n",
        "        x = self.resnet18.bn1(x)\n",
        "        x = self.resnet18.relu(x)\n",
        "        x = self.resnet18.maxpool(x)\n",
        "\n",
        "        x = self.resnet18.layer1(x)\n",
        "        x = self.resnet18.layer2(x)\n",
        "        x = self.resnet18.layer3(x)\n",
        "        x = self.resnet18.layer4(x)\n",
        "\n",
        "        x = self.resnet18.avgpool(x)\n",
        "        x = x.view(x.size(0), -1)\n",
        "        x = self.resnet18.fc(x)\n",
        "        return x\n",
        "\n",
        "# Initialize the model, loss function, and optimizer\n",
        "model = ModifiedResNet18()\n",
        "criterion = nn.CrossEntropyLoss()\n",
        "optimizer = optim.Adam(model.parameters(), lr=0.001)\n",
        "\n",
        "# Training loop\n",
        "epochs = 10\n",
        "train_losses = []\n",
        "train_accuracy = []\n",
        "val_losses = []\n",
        "val_accuracy = []\n",
        "\n",
        "for epoch in range(epochs):\n",
        "    running_loss = 0.0\n",
        "    correct_train = 0\n",
        "    total_train = 0\n",
        "    for i, data in enumerate(trainloader, 0):\n",
        "        inputs, labels = data\n",
        "        optimizer.zero_grad()\n",
        "        outputs = model(inputs)\n",
        "        loss = criterion(outputs, labels)\n",
        "        loss.backward()\n",
        "        optimizer.step()\n",
        "\n",
        "        running_loss += loss.item()\n",
        "        _, predicted = torch.max(outputs.data, 1)\n",
        "        total_train += labels.size(0)\n",
        "        correct_train += (predicted == labels).sum().item()\n",
        "\n",
        "    train_accuracy.append(100 * correct_train / total_train)\n",
        "    train_losses.append(running_loss / len(trainloader))\n",
        "\n",
        "    # Validation of the model\n",
        "    model.eval()\n",
        "    running_loss = 0.0\n",
        "    correct_val = 0\n",
        "    total_val = 0\n",
        "    with torch.no_grad():\n",
        "        for data in valloader:\n",
        "            inputs, labels = data\n",
        "            outputs = model(inputs)\n",
        "            loss = criterion(outputs, labels)\n",
        "            running_loss += loss.item()\n",
        "            _, predicted = torch.max(outputs.data, 1)\n",
        "            total_val += labels.size(0)\n",
        "            correct_val += (predicted == labels).sum().item()\n",
        "\n",
        "    val_accuracy.append(100 * correct_val / total_val)\n",
        "    val_losses.append(running_loss / len(valloader))\n",
        "\n",
        "    model.train()\n",
        "\n",
        "# Final evaluation on the test dataset\n",
        "model.eval()\n",
        "test_loss = 0.0\n",
        "correct_test = 0\n",
        "total_test = 0\n",
        "with torch.no_grad():\n",
        "    for data in testloader:\n",
        "        inputs, labels = data\n",
        "        outputs = model(inputs)\n",
        "        loss = criterion(outputs, labels)\n",
        "        test_loss += loss.item()\n",
        "        _, predicted = torch.max(outputs.data, 1)\n",
        "        total_test += labels.size(0)\n",
        "        correct_test += (predicted == labels).sum().item()\n",
        "\n",
        "test_accuracy = 100 * correct_test / total_test\n",
        "\n",
        "# Plotting accuracy and loss\n",
        "plt.figure(figsize=(10, 5))\n",
        "plt.subplot(1, 2, 1)\n",
        "plt.plot(train_losses, label='Training Loss')\n",
        "plt.plot(val_losses, label='Validation Loss')\n",
        "plt.xlabel('Epoch')\n",
        "plt.ylabel('Loss')\n",
        "plt.legend()\n",
        "\n",
        "plt.subplot(1, 2, 2)\n",
        "plt.plot(train_accuracy, label='Training Accuracy')\n",
        "plt.plot(val_accuracy, label='Validation Accuracy')\n",
        "plt.xlabel('Epoch')\n",
        "plt.ylabel('Accuracy')\n",
        "plt.legend()\n",
        "plt.show()\n",
        "\n",
        "# Final evaluation on the test dataset\n",
        "print(f'Final accuracy on the test dataset: {test_accuracy}%')"
      ],
      "metadata": {
        "colab": {
          "base_uri": "https://localhost:8080/",
          "height": 482
        },
        "id": "TIA2Ah45idss",
        "outputId": "5d306fae-a9f3-4c9a-9f2d-05d6c1c2b7c1"
      },
      "execution_count": null,
      "outputs": [
        {
          "output_type": "display_data",
          "data": {
            "text/plain": [
              "<Figure size 1000x500 with 2 Axes>"
            ],
            "image/png": "[encoded data removed]"
          },
          "metadata": {}
        },
        {
          "output_type": "stream",
          "name": "stdout",
          "text": [
            "Final accuracy on the test dataset: 90.41%\n"
          ]
        }
      ]
    },
    {
      "cell_type": "markdown",
      "source": [
        "#separation index and accuracy"
      ],
      "metadata": {
        "id": "G__mRB5XcHvj"
      }
    },
    {
      "cell_type": "code",
      "source": [
        "def calculate_accuracy(outputs, labels):\n",
        "    _, predicted = torch.max(outputs, 1)\n",
        "    correct = (predicted == labels).sum().item()\n",
        "    total = labels.size(0)\n",
        "    accuracy = correct / total\n",
        "    return accuracy\n",
        "# Function to calculate the first-order separation index\n",
        "def calculate_separation_index(labels, num_classes):\n",
        "    class_counts = [0] * num_classes\n",
        "    total_samples = len(labels)\n",
        "\n",
        "    for label in labels:\n",
        "        class_counts[label] += 1\n",
        "\n",
        "    separation_index = 0\n",
        "    for count in class_counts:\n",
        "        separation_index += (count / total_samples) * (1 - count / total_samples)\n",
        "    return separation_index\n",
        "\n",
        "# Function to extract activations from the last layer before the classification\n",
        "def get_last_layer_activations(data_loader, model):\n",
        "    activations = []\n",
        "    labels_list = []\n",
        "    with torch.no_grad():\n",
        "        for inputs, labels in data_loader:\n",
        "            outputs = model(inputs)\n",
        "            # Assuming the last layer before the classification in your model\n",
        "            activations.append(outputs.clone().detach())  # Adjust based on your model structure\n",
        "            labels_list.append(labels)\n",
        "\n",
        "    return torch.cat(activations), torch.cat(labels_list)\n",
        "\n",
        "# Get activations and labels for a balanced subset of the training data\n",
        "balanced_train_loader = torch.utils.data.DataLoader(trainset, batch_size=64, shuffle=True)\n",
        "train_last_layer_activations, train_labels = get_last_layer_activations(balanced_train_loader, model)\n",
        "\n",
        "# Calculate the separation index and accuracy for the training data\n",
        "num_classes = 10  # FashionMNIST has 10 classes\n",
        "separation_index_train = calculate_separation_index(train_labels, num_classes)\n",
        "train_accuracy = calculate_accuracy(train_last_layer_activations, train_labels)\n",
        "\n",
        "print(f\"Separation Index for the training data: {separation_index_train}\")\n",
        "print(f\"Accuracy for the training data: {train_accuracy * 100}%\")\n",
        "\n",
        "# Evaluate on the test dataset\n",
        "test_last_layer_activations, test_labels = get_last_layer_activations(testloader, model)\n",
        "separation_index_test = calculate_separation_index(test_labels, num_classes)\n",
        "test_accuracy = calculate_accuracy(test_last_layer_activations, test_labels)\n",
        "\n",
        "print(f\"Separation Index for the test data: {separation_index_test}\")\n",
        "print(f\"Accuracy for the test data: {test_accuracy * 100}%\")"
      ],
      "metadata": {
        "colab": {
          "base_uri": "https://localhost:8080/"
        },
        "id": "1hHCejtPYAvw",
        "outputId": "fd7df34e-1061-4ae0-d1c0-49e1a51758fc"
      },
      "execution_count": null,
      "outputs": [
        {
          "output_type": "stream",
          "name": "stdout",
          "text": [
            "Separation Index for the training data: 0.8999971684027775\n",
            "Accuracy for the training data: 90.97916666666667%\n",
            "Separation Index for the test data: 0.8999999999999999\n",
            "Accuracy for the test data: 87.07000000000001%\n"
          ]
        }
      ]
    },
    {
      "cell_type": "markdown",
      "source": [
        "#Anti-separation index"
      ],
      "metadata": {
        "id": "28QMuVbGcMsj"
      }
    },
    {
      "cell_type": "code",
      "source": [
        "def calculate_separation_index(labels, num_classes):\n",
        "    class_counts = [0] * num_classes\n",
        "    total_samples = len(labels)\n",
        "\n",
        "    for label in labels:\n",
        "        class_counts[label] += 1\n",
        "\n",
        "    separation_index = 0\n",
        "    for count in class_counts:\n",
        "        separation_index += (count / total_samples) * (1 - count / total_samples)\n",
        "    return separation_index\n",
        "\n",
        "# Function to extract activations from the last layer before the classification\n",
        "def get_last_layer_activations(data_loader, model):\n",
        "    activations = []\n",
        "    labels_list = []\n",
        "    with torch.no_grad():\n",
        "        for inputs, labels in data_loader:\n",
        "            outputs = model(inputs)\n",
        "            # Assuming the last layer before the classification in your model\n",
        "            activations.append(outputs.clone().detach())  # Adjust based on your model structure\n",
        "            labels_list.append(labels)\n",
        "\n",
        "    return torch.cat(activations), torch.cat(labels_list)\n",
        "\n",
        "# Get activations and labels for a balanced subset of the training data\n",
        "balanced_train_loader = torch.utils.data.DataLoader(trainset, batch_size=64, shuffle=True)\n",
        "train_last_layer_activations, train_labels = get_last_layer_activations(balanced_train_loader, model)\n",
        "\n",
        "# Calculate the separation index for the last layer activations\n",
        "num_classes = 10  # FashionMNIST has 10 classes\n",
        "Anti_separation_index_train = calculate_separation_index(train_labels, num_classes)\n",
        "\n",
        "# Evaluate on the test dataset\n",
        "test_last_layer_activations, test_labels = get_last_layer_activations(testloader, model)\n",
        "Anti_separation_index_test = calculate_separation_index(test_labels, num_classes)\n",
        "\n",
        "print(f\"Anti Separation Index (2) for the test data: {Anti_separation_index_test}\")\n",
        "print(f\"Anti Separation Index (2) for the training data: {Anti_separation_index_train}\")"
      ],
      "metadata": {
        "colab": {
          "base_uri": "https://localhost:8080/"
        },
        "id": "MRe65rZcnc_V",
        "outputId": "e81b245f-0076-4879-8b58-f2d80bcd5109"
      },
      "execution_count": null,
      "outputs": [
        {
          "output_type": "stream",
          "name": "stdout",
          "text": [
            "Anti Separation Index (2) for the test data: 0.0490614698\n",
            "Anti Separation Index (2) for the training data: 0.048141579861\n"
          ]
        }
      ]
    },
    {
      "cell_type": "markdown",
      "source": [
        "#center based separation index"
      ],
      "metadata": {
        "id": "QH0lpSA3cRkf"
      }
    },
    {
      "cell_type": "code",
      "source": [
        "import torch\n",
        "import numpy as np\n",
        "\n",
        "# Function to calculate the Center-based Separation Index (CSI)\n",
        "def calculate_center_based_separation_index(data, labels, num_classes):\n",
        "    # Convert torch tensor to numpy array\n",
        "    data = data.numpy()\n",
        "\n",
        "    # Number of data points\n",
        "    m = len(labels)\n",
        "\n",
        "    # Initialize class centroids and counts\n",
        "    class_centroids = np.zeros((num_classes, data.shape[1]))\n",
        "    class_counts = np.zeros(num_classes)\n",
        "\n",
        "    # Calculate class centroids\n",
        "    for i, label in enumerate(labels):\n",
        "        class_centroids[label] += data[i]\n",
        "        class_counts[label] += 1\n",
        "\n",
        "    # Calculate means (centroids) for each class\n",
        "    for c in range(num_classes):\n",
        "        class_centroids[c] /= class_counts[c]\n",
        "\n",
        "    # Calculate distance matrix from data points to class centroids\n",
        "    distances = np.zeros((m, num_classes))\n",
        "    for i in range(m):\n",
        "        for c in range(num_classes):\n",
        "            distances[i][c] = np.linalg.norm(data[i] - class_centroids[c])\n",
        "\n",
        "    # Find the closest centroid index for each data point\n",
        "    closest_centroid_index = np.argmin(distances, axis=1)\n",
        "\n",
        "    # Calculate CSI\n",
        "    CSI = 0\n",
        "    for i in range(m):\n",
        "        CSI += np.linalg.norm(data[i] - class_centroids[closest_centroid_index[i]])\n",
        "\n",
        "    CSI /= m\n",
        "\n",
        "    return CSI\n",
        "\n",
        "# Assuming 'num_classes' is defined\n",
        "num_classes = 10  # FashionMNIST has 10 classes\n",
        "\n",
        "# Calculate center-based separation index for training and test data\n",
        "center_based_separation_train = calculate_center_based_separation_index(train_last_layer_activations, train_labels, num_classes)\n",
        "center_based_separation_test = calculate_center_based_separation_index(test_last_layer_activations, test_labels, num_classes)\n",
        "\n",
        "print(f\"Center-Based Separation Index for the training data: {center_based_separation_train}\")\n",
        "print(f\"Center-Based Separation Index for the test data: {center_based_separation_test}\")"
      ],
      "metadata": {
        "colab": {
          "base_uri": "https://localhost:8080/"
        },
        "id": "Wmxw_CMGO_PJ",
        "outputId": "ff5fae59-2deb-4fd6-8146-0d3f3ba25708"
      },
      "execution_count": null,
      "outputs": [
        {
          "output_type": "stream",
          "name": "stdout",
          "text": [
            "Center-Based Separation Index for the training data: 0.8050181875316437\n",
            "Center-Based Separation Index for the test data: 0.8036544533079993\n"
          ]
        }
      ]
    },
    {
      "cell_type": "markdown",
      "source": [
        "#High ordr Soft SI"
      ],
      "metadata": {
        "id": "C17aeb7dgPT1"
      }
    },
    {
      "cell_type": "code",
      "source": [
        "import torch\n",
        "import numpy as np\n",
        "from sklearn.neighbors import NearestNeighbors\n",
        "\n",
        "# Function to calculate the High Order Separation Index (SIr)\n",
        "def calculate_high_order_separation_index(data, labels, num_classes, r):\n",
        "    # Convert torch tensor to numpy array\n",
        "    data = data.numpy()\n",
        "\n",
        "    # Number of data points\n",
        "    m = len(labels)\n",
        "\n",
        "    # Initialize SIr\n",
        "    SIr = 0\n",
        "\n",
        "    # Calculate nearest neighbors\n",
        "    nbrs = NearestNeighbors(n_neighbors=r+1, algorithm='auto').fit(data)\n",
        "    distances, indices = nbrs.kneighbors(data)\n",
        "\n",
        "    for i in range(m):\n",
        "        label_i = labels[i]\n",
        "        same_label_count = 0\n",
        "\n",
        "        for j in range(1, r+1):  # Skip the first element (itself)\n",
        "            neighbor_index = indices[i][j]\n",
        "            if labels[neighbor_index] == label_i:\n",
        "                same_label_count += 1\n",
        "\n",
        "        if same_label_count == r:  # All 'r' nearest neighbors have the same label\n",
        "            SIr += 1\n",
        "\n",
        "    SIr /= m  # Normalize by the total number of data points\n",
        "\n",
        "    return SIr\n",
        "\n",
        "# Assuming 'num_classes' and 'r' (order of SIr) are defined\n",
        "num_classes = 10  # FashionMNIST has 10 classes\n",
        "r = 3  # Order of SIr\n",
        "\n",
        "# Calculate high order separation index for training and test data\n",
        "high_order_separation_train = calculate_high_order_separation_index(train_last_layer_activations, train_labels, num_classes, r)\n",
        "high_order_separation_test = calculate_high_order_separation_index(test_last_layer_activations, test_labels, num_classes, r)\n",
        "\n",
        "print(f\"High Order Soft Separation Index (SIr={r}) for the training data: {high_order_separation_train}\")\n",
        "print(f\"High Order Soft Separation Index (SIr={r}) for the test data: {high_order_separation_test}\")"
      ],
      "metadata": {
        "colab": {
          "base_uri": "https://localhost:8080/"
        },
        "id": "kfQ9ndehgSPc",
        "outputId": "9f04fef4-a850-4b2f-cc9e-00bd08468051"
      },
      "execution_count": null,
      "outputs": [
        {
          "output_type": "stream",
          "name": "stdout",
          "text": [
            "High Order Soft Separation Index (SIr=3) for the training data: 0.7878541666666666\n",
            "High Order Soft Separation Index (SIr=3) for the test data: 0.7209\n"
          ]
        }
      ]
    },
    {
      "cell_type": "code",
      "source": [
        "import torch\n",
        "import numpy as np\n",
        "from sklearn.neighbors import NearestNeighbors\n",
        "\n",
        "# Function to calculate the High Order Separation Index (SIr)\n",
        "def calculate_high_order_separation_index(data, labels, num_classes, r):\n",
        "    # Convert torch tensor to numpy array\n",
        "    data = data.numpy()\n",
        "\n",
        "    # Number of data points\n",
        "    m = len(labels)\n",
        "\n",
        "    # Initialize SIr\n",
        "    SIr = 0\n",
        "\n",
        "    # Calculate nearest neighbors\n",
        "    nbrs = NearestNeighbors(n_neighbors=r+1, algorithm='auto').fit(data)\n",
        "    distances, indices = nbrs.kneighbors(data)\n",
        "\n",
        "    for i in range(m):\n",
        "        label_i = labels[i]\n",
        "        same_label_count = 0\n",
        "\n",
        "        for j in range(1, r+1):  # Skip the first element (itself)\n",
        "            neighbor_index = indices[i][j]\n",
        "            if labels[neighbor_index] == label_i:\n",
        "                same_label_count += 1\n",
        "\n",
        "        if same_label_count == r:  # All 'r' nearest neighbors have the same label\n",
        "            SIr += 1\n",
        "\n",
        "    SIr /= m  # Normalize by the total number of data points\n",
        "\n",
        "    return SIr\n",
        "\n",
        "# Assuming 'num_classes' and 'r' (order of SIr) are defined\n",
        "num_classes = 10  # FashionMNIST has 10 classes\n",
        "r = 2  # Order of SIr\n",
        "\n",
        "# Calculate high order separation index for training and test data\n",
        "high_order_separation_train = calculate_high_order_separation_index(train_last_layer_activations, train_labels, num_classes, r)\n",
        "high_order_separation_test = calculate_high_order_separation_index(test_last_layer_activations, test_labels, num_classes, r)\n",
        "\n",
        "print(f\"High Order Soft Separation Index (SIr={r}) for the training data: {high_order_separation_train}\")\n",
        "print(f\"High Order Soft Separation Index (SIr={r}) for the test data: {high_order_separation_test}\")"
      ],
      "metadata": {
        "colab": {
          "base_uri": "https://localhost:8080/"
        },
        "id": "giiYzkhEpe-l",
        "outputId": "304a06c2-e28c-4151-ea8f-bdc6bde25070"
      },
      "execution_count": null,
      "outputs": [
        {
          "output_type": "stream",
          "name": "stdout",
          "text": [
            "High Order Soft Separation Index (SIr=2) for the training data: 0.8300207851428\n",
            "High Order Soft Separation Index (SIr=2) for the test data: 0.8184622323519\n"
          ]
        }
      ]
    },
    {
      "cell_type": "markdown",
      "source": [
        "#High order SI"
      ],
      "metadata": {
        "id": "bPTmKkSrgagc"
      }
    },
    {
      "cell_type": "code",
      "source": [
        "import torch\n",
        "import numpy as np\n",
        "from sklearn.neighbors import NearestNeighbors\n",
        "\n",
        "# Function to calculate the High Order Soft Separation Index (SIsoft)\n",
        "def calculate_high_order_soft_separation_index(data, labels, num_classes, r):\n",
        "    # Convert torch tensor to numpy array\n",
        "    data = data.numpy()\n",
        "\n",
        "    # Number of data points\n",
        "    m = len(labels)\n",
        "\n",
        "    # Initialize SIsoft\n",
        "    SIsoft = 0\n",
        "\n",
        "    # Calculate nearest neighbors\n",
        "    nbrs = NearestNeighbors(n_neighbors=r+1, algorithm='auto').fit(data)\n",
        "    distances, indices = nbrs.kneighbors(data)\n",
        "\n",
        "    for i in range(m):\n",
        "        label_i = labels[i]\n",
        "        dissimilarity_sum = 0\n",
        "\n",
        "        for j in range(1, r+1):  # Skip the first element (itself)\n",
        "            neighbor_index = indices[i][j]\n",
        "            if labels[neighbor_index] != label_i:\n",
        "                dissimilarity_sum += 1  # Increase dissimilarity for different labels\n",
        "\n",
        "        soft_distance = dissimilarity_sum / r\n",
        "        SIsoft += soft_distance\n",
        "\n",
        "    SIsoft /= m  # Normalize by the total number of data points\n",
        "\n",
        "    return SIsoft\n",
        "\n",
        "# Assuming 'num_classes' and 'r' (order of SIsoft) are defined\n",
        "num_classes = 10  # FashionMNIST has 10 classes\n",
        "r = 3  # Order of SIsoft\n",
        "\n",
        "# Calculate high order soft separation index for training and test data\n",
        "high_order_soft_separation_train = calculate_high_order_soft_separation_index(train_last_layer_activations, train_labels, num_classes, r)\n",
        "high_order_soft_separation_test = calculate_high_order_soft_separation_index(test_last_layer_activations, test_labels, num_classes, r)\n",
        "\n",
        "print(f\"High Order Separation Index (SIr={r}) for the training data: {high_order_soft_separation_train}\")\n",
        "print(f\"High Order Separation Index (SIr={r})) for the test data: {high_order_soft_separation_test}\")"
      ],
      "metadata": {
        "colab": {
          "base_uri": "https://localhost:8080/"
        },
        "id": "1Sy4iksWhKDZ",
        "outputId": "47ba28e1-3873-42cc-bf0f-2f2a4b823cd6"
      },
      "execution_count": null,
      "outputs": [
        {
          "output_type": "stream",
          "name": "stdout",
          "text": [
            "High Order Separation Index (SIr=3) for the training data: 0.3782953181\n",
            "High Order Separation Index (SIr=3) for the test data: 0.3461704682\n"
          ]
        }
      ]
    },
    {
      "cell_type": "code",
      "source": [
        "import torch\n",
        "import numpy as np\n",
        "from sklearn.neighbors import NearestNeighbors\n",
        "\n",
        "# Function to calculate the High Order Soft Separation Index (SIsoft)\n",
        "def calculate_high_order_soft_separation_index(data, labels, num_classes, r):\n",
        "    # Convert torch tensor to numpy array\n",
        "    data = data.numpy()\n",
        "\n",
        "    # Number of data points\n",
        "    m = len(labels)\n",
        "\n",
        "    # Initialize SIsoft\n",
        "    SIsoft = 0\n",
        "\n",
        "    # Calculate nearest neighbors\n",
        "    nbrs = NearestNeighbors(n_neighbors=r+1, algorithm='auto').fit(data)\n",
        "    distances, indices = nbrs.kneighbors(data)\n",
        "\n",
        "    for i in range(m):\n",
        "        label_i = labels[i]\n",
        "        dissimilarity_sum = 0\n",
        "\n",
        "        for j in range(1, r+1):  # Skip the first element (itself)\n",
        "            neighbor_index = indices[i][j]\n",
        "            if labels[neighbor_index] != label_i:\n",
        "                dissimilarity_sum += 1  # Increase dissimilarity for different labels\n",
        "\n",
        "        soft_distance = dissimilarity_sum / r\n",
        "        SIsoft += soft_distance\n",
        "\n",
        "    SIsoft /= m  # Normalize by the total number of data points\n",
        "\n",
        "    return SIsoft\n",
        "\n",
        "# Assuming 'num_classes' and 'r' (order of SIsoft) are defined\n",
        "num_classes = 10  # FashionMNIST has 10 classes\n",
        "r = 2  # Order of SIsoft\n",
        "\n",
        "# Calculate high order soft separation index for training and test data\n",
        "high_order_soft_separation_train = calculate_high_order_soft_separation_index(train_last_layer_activations, train_labels, num_classes, r)\n",
        "high_order_soft_separation_test = calculate_high_order_soft_separation_index(test_last_layer_activations, test_labels, num_classes, r)\n",
        "\n",
        "print(f\"High Order Separation Index (SIr={r}) for the training data: {high_order_soft_separation_train}\")\n",
        "print(f\"High Order Separation Index (SIr={r})) for the test data: {high_order_soft_separation_test}\")"
      ],
      "metadata": {
        "colab": {
          "base_uri": "https://localhost:8080/"
        },
        "id": "LmEuJwNEqnDY",
        "outputId": "2e691584-4a24-4988-c510-ac340761111d"
      },
      "execution_count": null,
      "outputs": [
        {
          "output_type": "stream",
          "name": "stdout",
          "text": [
            "High Order Separation Index (SIr=2) for the training data: 0.60579831935\n",
            "High Order Separation Index (SIr=2) for the test data: 0.562016806675\n"
          ]
        }
      ]
    }
  ]
}